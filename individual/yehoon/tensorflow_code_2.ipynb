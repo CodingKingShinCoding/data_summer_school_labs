{
 "cells": [
  {
   "cell_type": "code",
   "execution_count": null,
   "metadata": {
    "collapsed": false
   },
   "outputs": [
    {
     "name": "stdout",
     "output_type": "stream",
     "text": [
      "0 [[ 0.87016237  0.65761471 -0.3949278  -0.8206538  -0.15584235 -0.08864984\n",
      "  -0.04791769 -0.59758651 -0.80468398  0.62659287  0.92193383 -0.51250136\n",
      "  -0.1182294 ]] 20333.9\n"
     ]
    }
   ],
   "source": [
    "from sklearn.datasets import load_boston\n",
    "import matplotlib.pyplot as plt\n",
    "import numpy as np\n",
    "import pandas as pd\n",
    "from sklearn import  linear_model\n",
    "import tensorflow as tf\n",
    "from pandas.tools.plotting import scatter_matrix\n",
    "%matplotlib inline\n",
    "\n",
    "boston = load_boston()\n",
    "\n",
    "\n",
    "x_data = (np.float32(boston.data)).T\n",
    "y_data = np.float32(boston.target)\n",
    "\n",
    "W = tf.Variable(tf.random_uniform([1,len(x_data)], -1.0, 1.0))\n",
    "b=tf.Variable(tf.random_uniform([1],-1.0,1.0))\n",
    "\n",
    "hypothesis = tf.matmul(W,x_data)+b\n",
    "cost = tf.reduce_mean(tf.square(hypothesis - y_data))\n",
    "\n",
    "a = tf.Variable(0.000001)\n",
    "optimizer = tf.train.GradientDescentOptimizer(a)\n",
    "train = optimizer.minimize(cost)\n",
    "\n",
    "init = tf.initialize_all_variables()\n",
    "\n",
    "sess = tf.Session()\n",
    "sess.run(init)\n",
    "\n",
    "for step in range(100000000):\n",
    "    sess.run(train)\n",
    "    if step % 500000 == 0:\n",
    "        print (step,sess.run(W),sess.run(cost))"
   ]
  }
 ],
 "metadata": {
  "kernelspec": {
   "display_name": "Python 3",
   "language": "python",
   "name": "python3"
  },
  "language_info": {
   "codemirror_mode": {
    "name": "ipython",
    "version": 3
   },
   "file_extension": ".py",
   "mimetype": "text/x-python",
   "name": "python",
   "nbconvert_exporter": "python",
   "pygments_lexer": "ipython3",
   "version": "3.4.5"
  }
 },
 "nbformat": 4,
 "nbformat_minor": 0
}
