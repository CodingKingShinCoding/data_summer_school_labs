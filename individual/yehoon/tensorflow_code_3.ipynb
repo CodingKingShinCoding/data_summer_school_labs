{
 "cells": [
  {
   "cell_type": "code",
   "execution_count": null,
   "metadata": {
    "collapsed": false
   },
   "outputs": [
    {
     "name": "stdout",
     "output_type": "stream",
     "text": [
      "0 8492.69 [[-0.11077565  0.75563055  0.28200993  0.39677784 -0.02341349  0.90334547\n",
      "  -0.39751577  0.76762706  0.44529647 -0.66776466 -0.2225105  -0.3248449\n",
      "   0.405168   -0.67763859]]\n"
     ]
    }
   ],
   "source": [
    "import tensorflow as tf\n",
    "import numpy as np\n",
    "from sklearn.datasets import load_boston\n",
    "\n",
    "boston = load_boston()\n",
    "\n",
    "x_data = (boston.data).astype(np.float32)\n",
    "x_concatenate =  np.insert(x_data, 0, np.ones(len(x_data)), 1)\n",
    "x_data = x_concatenate.transpose()\n",
    "\n",
    "y_data = (boston.target).astype(np.float32)\n",
    "\n",
    "W = tf.Variable(tf.random_uniform([1,len(x_data)], -1.0, 1.0))\n",
    "b = tf.Variable(tf.random_uniform([1], -1.0, 1.0))\n",
    "\n",
    "X = tf.placeholder(tf.float32, shape=[len(x_data),None])\n",
    "Y = tf.placeholder(tf.float32)\n",
    "\n",
    "hypothesis = tf.matmul(W, x_data) \n",
    "cost = tf.reduce_mean(tf.square(hypothesis - Y))\n",
    "\n",
    "W_val = []\n",
    "cost_val = []\n",
    "\n",
    "a = tf.Variable(0.000001)\n",
    "optimizer = tf.train.GradientDescentOptimizer(a) # 라이브러리\n",
    "train = optimizer.minimize(cost)\n",
    "\n",
    "init = tf.initialize_all_variables()\n",
    "\n",
    "sess = tf.Session()\n",
    "sess.run(init)\n",
    "\n",
    "for step in range(20000001):\n",
    "    sess.run(train, feed_dict={X:x_data, Y:y_data})\n",
    "    if step % 500000 == 0:\n",
    "        print (step, sess.run(cost, feed_dict={X:x_data, Y:y_data}), sess.run(W))"
   ]
  }
 ],
 "metadata": {
  "kernelspec": {
   "display_name": "Python 3",
   "language": "python",
   "name": "python3"
  },
  "language_info": {
   "codemirror_mode": {
    "name": "ipython",
    "version": 3
   },
   "file_extension": ".py",
   "mimetype": "text/x-python",
   "name": "python",
   "nbconvert_exporter": "python",
   "pygments_lexer": "ipython3",
   "version": "3.4.5"
  }
 },
 "nbformat": 4,
 "nbformat_minor": 0
}
