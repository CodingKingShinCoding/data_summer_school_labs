{
 "cells": [
  {
   "cell_type": "code",
   "execution_count": 1,
   "metadata": {
    "collapsed": true
   },
   "outputs": [],
   "source": [
    "import pandas as pd\n",
    "import numpy as np"
   ]
  },
  {
   "cell_type": "code",
   "execution_count": 2,
   "metadata": {
    "collapsed": false
   },
   "outputs": [],
   "source": [
    "data_source = \"https://archive.ics.uci.edu/ml/machine-learning-databases/cmc/cmc.data\"\n",
    "\n",
    "names = [\"Wife's age\", \"Wife's education\", \"Husband's education\", \"Number of children ever born\", \"Wife's religion\", \n",
    "\"Wife's now working?\", \"Husband's occupation\", \"Standard-of-living index\", \"Media exposure\", \"Contraceptive method used\"]\n",
    "\n",
    "dataframe = pd.read_csv(data_source, names=names)"
   ]
  },
  {
   "cell_type": "code",
   "execution_count": 3,
   "metadata": {
    "collapsed": false
   },
   "outputs": [
    {
     "data": {
      "text/html": [
       "<div>\n",
       "<table border=\"1\" class=\"dataframe\">\n",
       "  <thead>\n",
       "    <tr style=\"text-align: right;\">\n",
       "      <th></th>\n",
       "      <th>Wife's age</th>\n",
       "      <th>Wife's education</th>\n",
       "      <th>Husband's education</th>\n",
       "      <th>Number of children ever born</th>\n",
       "      <th>Wife's religion</th>\n",
       "      <th>Wife's now working?</th>\n",
       "      <th>Husband's occupation</th>\n",
       "      <th>Standard-of-living index</th>\n",
       "      <th>Media exposure</th>\n",
       "      <th>Contraceptive method used</th>\n",
       "    </tr>\n",
       "  </thead>\n",
       "  <tbody>\n",
       "    <tr>\n",
       "      <th>0</th>\n",
       "      <td>24</td>\n",
       "      <td>2</td>\n",
       "      <td>3</td>\n",
       "      <td>3</td>\n",
       "      <td>1</td>\n",
       "      <td>1</td>\n",
       "      <td>2</td>\n",
       "      <td>3</td>\n",
       "      <td>0</td>\n",
       "      <td>1</td>\n",
       "    </tr>\n",
       "    <tr>\n",
       "      <th>1</th>\n",
       "      <td>45</td>\n",
       "      <td>1</td>\n",
       "      <td>3</td>\n",
       "      <td>10</td>\n",
       "      <td>1</td>\n",
       "      <td>1</td>\n",
       "      <td>3</td>\n",
       "      <td>4</td>\n",
       "      <td>0</td>\n",
       "      <td>1</td>\n",
       "    </tr>\n",
       "    <tr>\n",
       "      <th>2</th>\n",
       "      <td>43</td>\n",
       "      <td>2</td>\n",
       "      <td>3</td>\n",
       "      <td>7</td>\n",
       "      <td>1</td>\n",
       "      <td>1</td>\n",
       "      <td>3</td>\n",
       "      <td>4</td>\n",
       "      <td>0</td>\n",
       "      <td>1</td>\n",
       "    </tr>\n",
       "    <tr>\n",
       "      <th>3</th>\n",
       "      <td>42</td>\n",
       "      <td>3</td>\n",
       "      <td>2</td>\n",
       "      <td>9</td>\n",
       "      <td>1</td>\n",
       "      <td>1</td>\n",
       "      <td>3</td>\n",
       "      <td>3</td>\n",
       "      <td>0</td>\n",
       "      <td>1</td>\n",
       "    </tr>\n",
       "    <tr>\n",
       "      <th>4</th>\n",
       "      <td>36</td>\n",
       "      <td>3</td>\n",
       "      <td>3</td>\n",
       "      <td>8</td>\n",
       "      <td>1</td>\n",
       "      <td>1</td>\n",
       "      <td>3</td>\n",
       "      <td>2</td>\n",
       "      <td>0</td>\n",
       "      <td>1</td>\n",
       "    </tr>\n",
       "  </tbody>\n",
       "</table>\n",
       "</div>"
      ],
      "text/plain": [
       "   Wife's age  Wife's education  Husband's education  \\\n",
       "0          24                 2                    3   \n",
       "1          45                 1                    3   \n",
       "2          43                 2                    3   \n",
       "3          42                 3                    2   \n",
       "4          36                 3                    3   \n",
       "\n",
       "   Number of children ever born  Wife's religion  Wife's now working?  \\\n",
       "0                             3                1                    1   \n",
       "1                            10                1                    1   \n",
       "2                             7                1                    1   \n",
       "3                             9                1                    1   \n",
       "4                             8                1                    1   \n",
       "\n",
       "   Husband's occupation  Standard-of-living index  Media exposure  \\\n",
       "0                     2                         3               0   \n",
       "1                     3                         4               0   \n",
       "2                     3                         4               0   \n",
       "3                     3                         3               0   \n",
       "4                     3                         2               0   \n",
       "\n",
       "   Contraceptive method used  \n",
       "0                          1  \n",
       "1                          1  \n",
       "2                          1  \n",
       "3                          1  \n",
       "4                          1  "
      ]
     },
     "execution_count": 3,
     "metadata": {},
     "output_type": "execute_result"
    }
   ],
   "source": [
    "dataframe[:5]"
   ]
  },
  {
   "cell_type": "code",
   "execution_count": 5,
   "metadata": {
    "collapsed": false
   },
   "outputs": [
    {
     "data": {
      "text/plain": [
       "Wife's age                         int64\n",
       "Wife's education                category\n",
       "Husband's education             category\n",
       "Number of children ever born       int64\n",
       "Wife's religion                 category\n",
       "Wife's now working?             category\n",
       "Husband's occupation            category\n",
       "Standard-of-living index        category\n",
       "Media exposure                  category\n",
       "Contraceptive method used       category\n",
       "dtype: object"
      ]
     },
     "execution_count": 5,
     "metadata": {},
     "output_type": "execute_result"
    }
   ],
   "source": [
    "dataframe.dtypes"
   ]
  },
  {
   "cell_type": "code",
   "execution_count": 6,
   "metadata": {
    "collapsed": false
   },
   "outputs": [
    {
     "data": {
      "text/plain": [
       "Wife's age                         int64\n",
       "Wife's education                category\n",
       "Husband's education             category\n",
       "Number of children ever born       int64\n",
       "Wife's religion                 category\n",
       "Wife's now working?             category\n",
       "Husband's occupation            category\n",
       "Standard-of-living index        category\n",
       "Media exposure                  category\n",
       "Contraceptive method used       category\n",
       "dtype: object"
      ]
     },
     "execution_count": 6,
     "metadata": {},
     "output_type": "execute_result"
    }
   ],
   "source": [
    "for column in range(0,10):\n",
    "    if column not in [0,3]:\n",
    "        dataframe[names[column]] = dataframe[names[column]].astype(\"category\")\n",
    "\n",
    "dataframe.dtypes\n",
    "# y_data = df[\"Contraceptive method used\"].values.reshape(-1,1)\n",
    "\n",
    "# y_data[:5]"
   ]
  },
  {
   "cell_type": "code",
   "execution_count": 7,
   "metadata": {
    "collapsed": false
   },
   "outputs": [],
   "source": [
    "y_data = dataframe.pop(\"Contraceptive method used\")"
   ]
  },
  {
   "cell_type": "code",
   "execution_count": 8,
   "metadata": {
    "collapsed": false
   },
   "outputs": [],
   "source": [
    "x_data = pd.get_dummies(dataframe).values\n",
    "y_data = pd.get_dummies(y_data).values"
   ]
  },
  {
   "cell_type": "code",
   "execution_count": 9,
   "metadata": {
    "collapsed": false
   },
   "outputs": [],
   "source": [
    "from sklearn import preprocessing as p\n",
    "\n",
    "min_max_scaler=p.MinMaxScaler()\n",
    "x_data=min_max_scaler.fit_transform(x_data)\n",
    "x_data = np.insert(x_data, 0 , 1, axis=1)"
   ]
  },
  {
   "cell_type": "code",
   "execution_count": 10,
   "metadata": {
    "collapsed": false
   },
   "outputs": [],
   "source": [
    "idx=np.random.randint(y_data.shape[0],size=int(y_data.shape[0]))\n",
    "training_idx = idx[:int(y_data.shape[0]*0.8)]\n",
    "test_idx = idx[int(y_data.shape[0]*0.8):]\n",
    "\n",
    "x_training, x_test = x_data[training_idx], x_data[test_idx]\n",
    "y_training, y_test = y_data[training_idx], y_data[test_idx]"
   ]
  },
  {
   "cell_type": "code",
   "execution_count": 11,
   "metadata": {
    "collapsed": false
   },
   "outputs": [
    {
     "data": {
      "text/plain": [
       "(1178, 3)"
      ]
     },
     "execution_count": 11,
     "metadata": {},
     "output_type": "execute_result"
    }
   ],
   "source": [
    "y_training.shape"
   ]
  },
  {
   "cell_type": "code",
   "execution_count": 24,
   "metadata": {
    "collapsed": false
   },
   "outputs": [
    {
     "name": "stdout",
     "output_type": "stream",
     "text": [
      "0 2855.38 [[ 0.07302348 -0.44872186  0.54661524 -0.07591087  0.08573216  0.13645442\n",
      "   0.11296317 -0.7550531   0.53831768  0.37780637  0.12460548  0.35969156\n",
      "   0.39586756  0.25502253 -0.11431967  0.15799445  0.26702225 -0.04632336\n",
      "  -0.88839155  0.84679401 -0.25097686  0.63825774 -0.12825127 -0.78424823\n",
      "   0.22607429]\n",
      " [-0.05679983  0.80839759 -0.04537201 -0.53889793 -0.87961578 -0.1465043\n",
      "   0.94282097  0.26789787 -0.88790154  0.80479813  0.64363605  0.72527617\n",
      "   0.31793675  0.6235736   0.09063594  0.21589944 -0.83666503  0.32845271\n",
      "   0.42192024  0.6748789   0.43644649 -0.6367507  -0.48923001 -0.5019778\n",
      "  -0.42635876]\n",
      " [-0.11300675 -0.74748486 -0.39433196  0.15646942  0.37180063  0.32374355\n",
      "   0.39094672  0.81786931  0.80925864  0.87334681  0.73098445  0.53991604\n",
      "  -0.61141503 -0.49270245  0.72333103 -0.25186092  0.29579586 -0.37144417\n",
      "   0.39385024 -0.69431359  0.60349023  0.56949222 -0.53092474 -0.62151527\n",
      "  -0.34476724]]\n"
     ]
    }
   ],
   "source": [
    "import tensorflow as tf\n",
    "\n",
    "x = x_training.T\n",
    "\n",
    "W = tf.Variable(tf.random_uniform([len(y_training[0]),len(x)], -1.0, 1.0))\n",
    "\n",
    "X = tf.placeholder(tf.float32)\n",
    "Y = tf.placeholder(tf.float32)\n",
    "\n",
    "hypothesis = tf.nn.softmax(tf.matmul(W, X))\n",
    "\n",
    "cost = tf.reduce_mean(-tf.reduce_sum(Y * tf.log(hypothesis), reduction_indices=1))\n",
    "\n",
    "W_val = []\n",
    "cost_val = []\n",
    "\n",
    "a = tf.Variable(0.01)\n",
    "optimizer = tf.train.GradientDescentOptimizer(a) # 라이브러리\n",
    "train = optimizer.minimize(cost)\n",
    "\n",
    "init = tf.initialize_all_variables()\n",
    "\n",
    "sess = tf.Session()\n",
    "sess.run(init)\n",
    "\n",
    "y_training = y_training.T\n",
    "\n",
    "for step in range(100000):\n",
    "    sess.run(train, feed_dict={X:x, Y:y_training})\n",
    "    if step % 400000 == 0:\n",
    "        print (step, sess.run(cost, feed_dict={X:x, Y:y_training}), sess.run(W))"
   ]
  },
  {
   "cell_type": "code",
   "execution_count": 35,
   "metadata": {
    "collapsed": false
   },
   "outputs": [
    {
     "data": {
      "text/plain": [
       "0.32203389830508472"
      ]
     },
     "execution_count": 35,
     "metadata": {},
     "output_type": "execute_result"
    }
   ],
   "source": [
    "hypothesis_value=sess.run(hypothesis,feed_dict={X:x})\n",
    "result=[np.argmax(predict) == np.argmax(original_value) for predict, original_value in zip(hypothesis_value.T,y_test)]\n",
    "\n",
    "sum(result)/len(result)\n"
   ]
  }
 ],
 "metadata": {
  "kernelspec": {
   "display_name": "Python 3",
   "language": "python",
   "name": "python3"
  },
  "language_info": {
   "codemirror_mode": {
    "name": "ipython",
    "version": 3
   },
   "file_extension": ".py",
   "mimetype": "text/x-python",
   "name": "python",
   "nbconvert_exporter": "python",
   "pygments_lexer": "ipython3",
   "version": "3.4.5"
  }
 },
 "nbformat": 4,
 "nbformat_minor": 0
}
