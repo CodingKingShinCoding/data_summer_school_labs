{
 "cells": [
  {
   "cell_type": "code",
   "execution_count": 253,
   "metadata": {
    "collapsed": true
   },
   "outputs": [],
   "source": [
    "%matplotlib inline\n",
    "\n",
    "import numpy as np\n",
    "import matplotlib.pyplot as plt\n",
    "import random\n",
    "import math "
   ]
  },
  {
   "cell_type": "code",
   "execution_count": 254,
   "metadata": {
    "collapsed": false
   },
   "outputs": [
    {
     "name": "stdout",
     "output_type": "stream",
     "text": [
      "using the gradient\n",
      "Stringtiong point : 1\n",
      "minimum v 1.9999999999999976\n"
     ]
    }
   ],
   "source": [
    "import math \n",
    "print(\"using the gradient\")\n",
    "v = random.randint(-3,3)\n",
    "print(\"Stringtiong point :\", v)\n",
    "tracking = []\n",
    "tolerance = 0.00001\n",
    "if v>=0:\n",
    "    for i in range(10000):\n",
    "        gradient = 4*v**3+3*v**2-16*v-12\n",
    "        tracking.append(v)\n",
    "        next_v = gradient * -0.001 + v \n",
    "        if next_v < tolerance:     # stop if we're converging\n",
    "            break\n",
    "        v = next_v\n",
    "else:\n",
    "    for i in range(10000):\n",
    "        gradient = 4*v**3+3*v**2-16*v-12\n",
    "        tracking.append(v)\n",
    "        next_v = gradient * -0.001 + v \n",
    "        if next_v > tolerance:  # stop if we're converging\n",
    "            break\n",
    "        v = next_v\n",
    "    \n",
    "print(\"minimum v\", v)\n"
   ]
  },
  {
   "cell_type": "code",
   "execution_count": 255,
   "metadata": {
    "collapsed": false
   },
   "outputs": [
    {
     "data": {
      "image/png": "[encoded data removed]",
      "text/plain": [
       "<matplotlib.figure.Figure at 0x7f329411db00>"
      ]
     },
     "metadata": {},
     "output_type": "display_data"
    }
   ],
   "source": [
    "from numpy import arange\n",
    "\n",
    "graph_x = [i for i in arange(-3, 3, 0.1)]\n",
    "graph_y = [i**4+i**3-8*i**2-12*i for i in graph_x]\n",
    "plt.plot(tracking, [i**4+i**3-8*i**2-12*i for i in tracking], \"ro\")\n",
    "plt.plot(graph_x, graph_y)\n",
    "plt.show()"
   ]
  },
  {
   "cell_type": "markdown",
   "metadata": {},
   "source": []
  },
  {
   "cell_type": "code",
   "execution_count": null,
   "metadata": {
    "collapsed": true
   },
   "outputs": [],
   "source": []
  },
  {
   "cell_type": "code",
   "execution_count": null,
   "metadata": {
    "collapsed": true
   },
   "outputs": [],
   "source": []
  },
  {
   "cell_type": "code",
   "execution_count": null,
   "metadata": {
    "collapsed": true
   },
   "outputs": [],
   "source": []
  }
 ],
 "metadata": {
  "kernelspec": {
   "display_name": "Python 3",
   "language": "python",
   "name": "python3"
  },
  "language_info": {
   "codemirror_mode": {
    "name": "ipython",
    "version": 3
   },
   "file_extension": ".py",
   "mimetype": "text/x-python",
   "name": "python",
   "nbconvert_exporter": "python",
   "pygments_lexer": "ipython3",
   "version": "3.4.5"
  }
 },
 "nbformat": 4,
 "nbformat_minor": 0
}
