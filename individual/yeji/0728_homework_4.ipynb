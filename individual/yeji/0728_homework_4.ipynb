{
 "cells": [
  {
   "cell_type": "code",
   "execution_count": 2,
   "metadata": {
    "collapsed": true
   },
   "outputs": [],
   "source": [
    "import pandas as pd\n",
    "import numpy as np"
   ]
  },
  {
   "cell_type": "code",
   "execution_count": 3,
   "metadata": {
    "collapsed": true
   },
   "outputs": [],
   "source": [
    "data_source = \"https://archive.ics.uci.edu/ml/machine-learning-databases/cmc/cmc.data\"\n",
    "\n",
    "names = [\"Wife's age\", \"Wife's education\", \"Husband's education\", \"Number of children ever born\", \"Wife's religion\", \n",
    "\"Wife's now working?\", \"Husband's occupation\", \"Standard-of-living index\", \"Media exposure\", \"Contraceptive method used\"]\n",
    "\n",
    "dataframe = pd.read_csv(data_source, names=names)"
   ]
  },
  {
   "cell_type": "code",
   "execution_count": 4,
   "metadata": {
    "collapsed": false
   },
   "outputs": [
    {
     "data": {
      "text/html": [
       "<div>\n",
       "<table border=\"1\" class=\"dataframe\">\n",
       "  <thead>\n",
       "    <tr style=\"text-align: right;\">\n",
       "      <th></th>\n",
       "      <th>Wife's age</th>\n",
       "      <th>Wife's education</th>\n",
       "      <th>Husband's education</th>\n",
       "      <th>Number of children ever born</th>\n",
       "      <th>Wife's religion</th>\n",
       "      <th>Wife's now working?</th>\n",
       "      <th>Husband's occupation</th>\n",
       "      <th>Standard-of-living index</th>\n",
       "      <th>Media exposure</th>\n",
       "      <th>Contraceptive method used</th>\n",
       "    </tr>\n",
       "  </thead>\n",
       "  <tbody>\n",
       "    <tr>\n",
       "      <th>0</th>\n",
       "      <td>24</td>\n",
       "      <td>2</td>\n",
       "      <td>3</td>\n",
       "      <td>3</td>\n",
       "      <td>1</td>\n",
       "      <td>1</td>\n",
       "      <td>2</td>\n",
       "      <td>3</td>\n",
       "      <td>0</td>\n",
       "      <td>1</td>\n",
       "    </tr>\n",
       "    <tr>\n",
       "      <th>1</th>\n",
       "      <td>45</td>\n",
       "      <td>1</td>\n",
       "      <td>3</td>\n",
       "      <td>10</td>\n",
       "      <td>1</td>\n",
       "      <td>1</td>\n",
       "      <td>3</td>\n",
       "      <td>4</td>\n",
       "      <td>0</td>\n",
       "      <td>1</td>\n",
       "    </tr>\n",
       "    <tr>\n",
       "      <th>2</th>\n",
       "      <td>43</td>\n",
       "      <td>2</td>\n",
       "      <td>3</td>\n",
       "      <td>7</td>\n",
       "      <td>1</td>\n",
       "      <td>1</td>\n",
       "      <td>3</td>\n",
       "      <td>4</td>\n",
       "      <td>0</td>\n",
       "      <td>1</td>\n",
       "    </tr>\n",
       "    <tr>\n",
       "      <th>3</th>\n",
       "      <td>42</td>\n",
       "      <td>3</td>\n",
       "      <td>2</td>\n",
       "      <td>9</td>\n",
       "      <td>1</td>\n",
       "      <td>1</td>\n",
       "      <td>3</td>\n",
       "      <td>3</td>\n",
       "      <td>0</td>\n",
       "      <td>1</td>\n",
       "    </tr>\n",
       "    <tr>\n",
       "      <th>4</th>\n",
       "      <td>36</td>\n",
       "      <td>3</td>\n",
       "      <td>3</td>\n",
       "      <td>8</td>\n",
       "      <td>1</td>\n",
       "      <td>1</td>\n",
       "      <td>3</td>\n",
       "      <td>2</td>\n",
       "      <td>0</td>\n",
       "      <td>1</td>\n",
       "    </tr>\n",
       "  </tbody>\n",
       "</table>\n",
       "</div>"
      ],
      "text/plain": [
       "   Wife's age  Wife's education  Husband's education  \\\n",
       "0          24                 2                    3   \n",
       "1          45                 1                    3   \n",
       "2          43                 2                    3   \n",
       "3          42                 3                    2   \n",
       "4          36                 3                    3   \n",
       "\n",
       "   Number of children ever born  Wife's religion  Wife's now working?  \\\n",
       "0                             3                1                    1   \n",
       "1                            10                1                    1   \n",
       "2                             7                1                    1   \n",
       "3                             9                1                    1   \n",
       "4                             8                1                    1   \n",
       "\n",
       "   Husband's occupation  Standard-of-living index  Media exposure  \\\n",
       "0                     2                         3               0   \n",
       "1                     3                         4               0   \n",
       "2                     3                         4               0   \n",
       "3                     3                         3               0   \n",
       "4                     3                         2               0   \n",
       "\n",
       "   Contraceptive method used  \n",
       "0                          1  \n",
       "1                          1  \n",
       "2                          1  \n",
       "3                          1  \n",
       "4                          1  "
      ]
     },
     "execution_count": 4,
     "metadata": {},
     "output_type": "execute_result"
    }
   ],
   "source": [
    "dataframe[:5]"
   ]
  },
  {
   "cell_type": "code",
   "execution_count": 6,
   "metadata": {
    "collapsed": false
   },
   "outputs": [
    {
     "data": {
      "text/plain": [
       "Wife's age                      int64\n",
       "Wife's education                int64\n",
       "Husband's education             int64\n",
       "Number of children ever born    int64\n",
       "Wife's religion                 int64\n",
       "Wife's now working?             int64\n",
       "Husband's occupation            int64\n",
       "Standard-of-living index        int64\n",
       "Media exposure                  int64\n",
       "Contraceptive method used       int64\n",
       "dtype: object"
      ]
     },
     "execution_count": 6,
     "metadata": {},
     "output_type": "execute_result"
    }
   ],
   "source": [
    "dataframe.dtypes"
   ]
  },
  {
   "cell_type": "code",
   "execution_count": 7,
   "metadata": {
    "collapsed": false
   },
   "outputs": [
    {
     "data": {
      "text/plain": [
       "Wife's age                         int64\n",
       "Wife's education                category\n",
       "Husband's education             category\n",
       "Number of children ever born       int64\n",
       "Wife's religion                 category\n",
       "Wife's now working?             category\n",
       "Husband's occupation            category\n",
       "Standard-of-living index        category\n",
       "Media exposure                  category\n",
       "Contraceptive method used       category\n",
       "dtype: object"
      ]
     },
     "execution_count": 7,
     "metadata": {},
     "output_type": "execute_result"
    }
   ],
   "source": [
    "for column in range(0,10):\n",
    "    if column not in [0,3]:\n",
    "        dataframe[names[column]] = dataframe[names[column]].astype(\"category\")\n",
    "\n",
    "dataframe.dtypes\n",
    "# y_data = df[\"Contraceptive method used\"].values.reshape(-1,1)\n",
    "\n",
    "# y_data[:5]"
   ]
  },
  {
   "cell_type": "code",
   "execution_count": 46,
   "metadata": {
    "collapsed": false
   },
   "outputs": [],
   "source": [
    "data_modified = pd.get_dummies(dataframe)"
   ]
  },
  {
   "cell_type": "code",
   "execution_count": null,
   "metadata": {
    "collapsed": true
   },
   "outputs": [],
   "source": []
  }
 ],
 "metadata": {
  "kernelspec": {
   "display_name": "Python 3",
   "language": "python",
   "name": "python3"
  },
  "language_info": {
   "codemirror_mode": {
    "name": "ipython",
    "version": 3
   },
   "file_extension": ".py",
   "mimetype": "text/x-python",
   "name": "python",
   "nbconvert_exporter": "python",
   "pygments_lexer": "ipython3",
   "version": "3.4.5"
  }
 },
 "nbformat": 4,
 "nbformat_minor": 0
}
