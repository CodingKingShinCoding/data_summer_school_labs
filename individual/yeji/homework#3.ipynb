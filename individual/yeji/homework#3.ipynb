{
 "cells": [
  {
   "cell_type": "code",
   "execution_count": 6,
   "metadata": {
    "collapsed": true
   },
   "outputs": [],
   "source": [
    "import tensorflow as tf\n",
    "import numpy as np\n",
    "from numpy import genfromtxt\n",
    "import urllib.request as ur\n",
    "from sklearn.preprocessing import normalize"
   ]
  },
  {
   "cell_type": "code",
   "execution_count": 7,
   "metadata": {
    "collapsed": false
   },
   "outputs": [],
   "source": [
    "#https://archive.ics.uci.edu/ml/machine-learning-databases/pima-indians-diabetes/pima-indians-diabetes.names\n",
    "\n",
    "data_source = \"http://goo.gl/vhm1eU\"\n",
    "raw_data=ur.urlopen(data_source)\n",
    "name = ['prg', 'plas', 'pres','skin','test','mass','pedi', 'age','class']\n",
    "\n",
    "data=np.loadtxt(raw_data,unpack=True,dtype='float32',delimiter=\",\").T\n",
    "#x_data=data[:,:-1]\n",
    "y_data=data[:,-1]\n"
   ]
  },
  {
   "cell_type": "code",
   "execution_count": 8,
   "metadata": {
    "collapsed": false
   },
   "outputs": [
    {
     "data": {
      "text/plain": [
       "(768, 9)"
      ]
     },
     "execution_count": 8,
     "metadata": {},
     "output_type": "execute_result"
    }
   ],
   "source": [
    "x_data = normalize(data[:, :-1], axis=0)\n",
    "x_data = np.insert(x_data, 0 , 1, axis=1)\n",
    "y_data = y_data.reshape(y_data.shape[0], 1)\n",
    "x_data.shape"
   ]
  },
  {
   "cell_type": "code",
   "execution_count": 9,
   "metadata": {
    "collapsed": true
   },
   "outputs": [],
   "source": [
    "def compute_cost(x, y, theta):\n",
    "    m = y.shape[0]\n",
    "    J = (-1.0 /m )* (y.T.dot(np.log(hypothesis_function(x,theta))) + (1-y).T.dot(np.log(1- hypothesis_function(x,theta))))\n",
    "    \n",
    "    return (-1.0 /m )* (y * np.log(hypothesis_function(x,theta)) + (1-y) * np.log(1- hypothesis_function(x,theta))).sum()\n",
    "\n",
    "def sigmoid(z):\n",
    "    return 1 / (1 + np.exp(z))\n",
    "\n",
    "def hypothesis_function(x, theta):\n",
    "    z = (np.dot(-x,theta))    \n",
    "    return sigmoid(z)\n",
    "    \n",
    "def minimize_gradient(x, y, theta, iterations, alpha):\n",
    "    m = y.size\n",
    "    cost_history = []\n",
    "    theta_history = []\n",
    "    \n",
    "    for _ in range(iterations):\n",
    "        original_theta = theta\n",
    "        for i in range(theta.size):\n",
    "            partial_marginal = x[:, i].reshape(x.shape[0], 1)\n",
    "            delta = hypothesis_function(x, original_theta) - y\n",
    "            grad_i = delta.T.dot(partial_marginal)\n",
    "            \n",
    "            theta[i] = theta[i] - (alpha  * grad_i)\n",
    "        \n",
    "        if (_ % 10000) == 0:\n",
    "            theta_history.append(theta)\n",
    "            cost_history.append(compute_cost(x, y, theta))\n",
    "\n",
    "    return theta, np.array(cost_history), np.array(theta_history)"
   ]
  },
  {
   "cell_type": "code",
   "execution_count": 23,
   "metadata": {
    "collapsed": false
   },
   "outputs": [],
   "source": [
    "theta_initial = np.ones([len(x_data[0]),1])\n",
    "theta, cost_history, theta_history = minimize_gradient(\n",
    "    x_data, y_data,theta_initial, 1000000, 0.01)"
   ]
  },
  {
   "cell_type": "code",
   "execution_count": 27,
   "metadata": {
    "collapsed": false
   },
   "outputs": [
    {
     "name": "stdout",
     "output_type": "stream",
     "text": [
      "theta [[  -8.40469643]\n",
      " [  17.44802427]\n",
      " [ 121.85513274]\n",
      " [ -26.44106114]\n",
      " [   0.44594734]\n",
      " [  -4.62730111]\n",
      " [  81.9055825 ]\n",
      " [  15.09948358]\n",
      " [  14.52820394]]\n",
      "[ 0.81712839  0.48936399  0.4754921   0.47228336  0.47139171  0.47112136\n",
      "  0.4710354   0.47100727  0.4709979   0.47099473  0.47099365  0.47099328\n",
      "  0.47099315  0.47099311  0.47099309  0.47099309  0.47099308  0.47099308\n",
      "  0.47099308  0.47099308  0.47099308  0.47099308  0.47099308  0.47099308\n",
      "  0.47099308  0.47099308  0.47099308  0.47099308  0.47099308  0.47099308\n",
      "  0.47099308  0.47099308  0.47099308  0.47099308  0.47099308  0.47099308\n",
      "  0.47099308  0.47099308  0.47099308  0.47099308  0.47099308  0.47099308\n",
      "  0.47099308  0.47099308  0.47099308  0.47099308  0.47099308  0.47099308\n",
      "  0.47099308  0.47099308  0.47099308  0.47099308  0.47099308  0.47099308\n",
      "  0.47099308  0.47099308  0.47099308  0.47099308  0.47099308  0.47099308\n",
      "  0.47099308  0.47099308  0.47099308  0.47099308  0.47099308  0.47099308\n",
      "  0.47099308  0.47099308  0.47099308  0.47099308  0.47099308  0.47099308\n",
      "  0.47099308  0.47099308  0.47099308  0.47099308  0.47099308  0.47099308\n",
      "  0.47099308  0.47099308  0.47099308  0.47099308  0.47099308  0.47099308\n",
      "  0.47099308  0.47099308  0.47099308  0.47099308  0.47099308  0.47099308\n",
      "  0.47099308  0.47099308  0.47099308  0.47099308  0.47099308  0.47099308\n",
      "  0.47099308  0.47099308  0.47099308  0.47099308]\n"
     ]
    }
   ],
   "source": [
    "print(\"theta\", theta)\n",
    "print(cost_history)"
   ]
  },
  {
   "cell_type": "code",
   "execution_count": 28,
   "metadata": {
    "collapsed": false
   },
   "outputs": [
    {
     "data": {
      "text/plain": [
       "array([ 0.78255208])"
      ]
     },
     "execution_count": 28,
     "metadata": {},
     "output_type": "execute_result"
    }
   ],
   "source": [
    "sum((sigmoid(-x_data.dot(theta)) > 0.5) == y_data) / y_data.shape[0]"
   ]
  }
 ],
 "metadata": {
  "kernelspec": {
   "display_name": "Python 3",
   "language": "python",
   "name": "python3"
  },
  "language_info": {
   "codemirror_mode": {
    "name": "ipython",
    "version": 3
   },
   "file_extension": ".py",
   "mimetype": "text/x-python",
   "name": "python",
   "nbconvert_exporter": "python",
   "pygments_lexer": "ipython3",
   "version": "3.4.5"
  }
 },
 "nbformat": 4,
 "nbformat_minor": 0
}
