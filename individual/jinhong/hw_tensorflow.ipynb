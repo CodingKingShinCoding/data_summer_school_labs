{
 "cells": [
  {
   "cell_type": "code",
   "execution_count": 1,
   "metadata": {
    "collapsed": false
   },
   "outputs": [],
   "source": [
    "#from sklearn.datasets import load_boston\n",
    "import matplotlib.pyplot as plt\n",
    "import numpy as np\n",
    "import pandas as pd\n",
    "#from sklearn import  linear_model\n",
    "from pandas.tools.plotting import scatter_matrix\n",
    "%matplotlib inline"
   ]
  },
  {
   "cell_type": "code",
   "execution_count": 2,
   "metadata": {
    "collapsed": false
   },
   "outputs": [
    {
     "ename": "NameError",
     "evalue": "name 'load_boston' is not defined",
     "output_type": "error",
     "traceback": [
      "\u001b[1;31m---------------------------------------------------------------------------\u001b[0m",
      "\u001b[1;31mNameError\u001b[0m                                 Traceback (most recent call last)",
      "\u001b[1;32m<ipython-input-2-814a4674f029>\u001b[0m in \u001b[0;36m<module>\u001b[1;34m()\u001b[0m\n\u001b[1;32m----> 1\u001b[1;33m \u001b[0mboston\u001b[0m \u001b[1;33m=\u001b[0m \u001b[0mload_boston\u001b[0m\u001b[1;33m(\u001b[0m\u001b[1;33m)\u001b[0m\u001b[1;33m\u001b[0m\u001b[0m\n\u001b[0m\u001b[0;32m      2\u001b[0m \u001b[1;33m\u001b[0m\u001b[0m\n\u001b[0;32m      3\u001b[0m \u001b[0mnames\u001b[0m \u001b[1;33m=\u001b[0m \u001b[1;33m[\u001b[0m\u001b[1;34m'crim'\u001b[0m\u001b[1;33m,\u001b[0m \u001b[1;34m'zn'\u001b[0m\u001b[1;33m,\u001b[0m \u001b[1;34m'indus'\u001b[0m\u001b[1;33m,\u001b[0m \u001b[1;34m'chas'\u001b[0m\u001b[1;33m,\u001b[0m \u001b[1;34m'nox'\u001b[0m\u001b[1;33m,\u001b[0m \u001b[1;34m'rm'\u001b[0m\u001b[1;33m,\u001b[0m \u001b[1;34m'age'\u001b[0m\u001b[1;33m,\u001b[0m \u001b[1;34m'dis'\u001b[0m\u001b[1;33m,\u001b[0m \u001b[1;34m'rad'\u001b[0m\u001b[1;33m,\u001b[0m \u001b[1;34m'tax'\u001b[0m\u001b[1;33m,\u001b[0m \u001b[1;34m'ptratio'\u001b[0m\u001b[1;33m,\u001b[0m \u001b[1;34m'b'\u001b[0m\u001b[1;33m,\u001b[0m \u001b[1;34m'lstat'\u001b[0m\u001b[1;33m]\u001b[0m\u001b[1;33m\u001b[0m\u001b[0m\n\u001b[0;32m      4\u001b[0m \u001b[0mdf\u001b[0m \u001b[1;33m=\u001b[0m \u001b[0mpd\u001b[0m\u001b[1;33m.\u001b[0m\u001b[0mDataFrame\u001b[0m\u001b[1;33m(\u001b[0m\u001b[0mboston\u001b[0m\u001b[1;33m.\u001b[0m\u001b[0mdata\u001b[0m\u001b[1;33m,\u001b[0m \u001b[0mcolumns\u001b[0m\u001b[1;33m=\u001b[0m\u001b[0mnames\u001b[0m\u001b[1;33m)\u001b[0m\u001b[1;33m\u001b[0m\u001b[0m\n\u001b[0;32m      5\u001b[0m \u001b[0mdf\u001b[0m\u001b[1;33m[\u001b[0m\u001b[1;34m'price'\u001b[0m\u001b[1;33m]\u001b[0m \u001b[1;33m=\u001b[0m \u001b[0mboston\u001b[0m\u001b[1;33m.\u001b[0m\u001b[0mtarget\u001b[0m\u001b[1;33m\u001b[0m\u001b[0m\n",
      "\u001b[1;31mNameError\u001b[0m: name 'load_boston' is not defined"
     ]
    }
   ],
   "source": [
    "boston = load_boston()\n"
   ]
  },
  {
   "cell_type": "code",
   "execution_count": 3,
   "metadata": {
    "collapsed": false
   },
   "outputs": [
    {
     "ename": "IndentationError",
     "evalue": "expected an indented block (<ipython-input-3-cf5cb6fc910f>, line 9)",
     "output_type": "error",
     "traceback": [
      "\u001b[1;36m  File \u001b[1;32m\"<ipython-input-3-cf5cb6fc910f>\"\u001b[1;36m, line \u001b[1;32m9\u001b[0m\n\u001b[1;33m    x1=[x_data[0]]\u001b[0m\n\u001b[1;37m     ^\u001b[0m\n\u001b[1;31mIndentationError\u001b[0m\u001b[1;31m:\u001b[0m expected an indented block\n"
     ]
    }
   ],
   "source": [
    "x_data = boston.data\n",
    "y_data = boston.target\n",
    "boston_x=np.array(x_data)\n",
    "x0=[]\n",
    "x_set=[]\n",
    "(row,col)=np.reshape(boston_x)\n",
    "#이게 안되면 x_data T 해서 np.ndim(t_x_data) 해야할듯\n",
    "x0=for i in range(col):\n",
    "    x0.append(1)\n",
    "#x0=[1,1,1,1,1,1,1,1,1,1,1,1,1]\n",
    "x_set.append(x0)\n",
    "for i in range(col):\n",
    "    x_set.append(x_data[i])\n",
    "X=np.array(x_set)\n",
    "W=tf.Variable(tf.random_uniform([1,14], -1.0, 1.0))\n",
    "\n",
    "\n",
    "hypothesis = tf.matmul(W,X)\n",
    "cost = tf.reduce_mean(tf.pow(hypothesis-y_data,2)) \n",
    "\n",
    "a = tf.Variable(0.0001)\n",
    "optimizer = tf.train.GradientDescentOptimizer(a)\n",
    "train = optimizer.minimize(cost)\n",
    "\n",
    "init = tf.initialize_all_variables()\n",
    "\n",
    "W_val = []\n",
    "cost_val = []\n",
    "\n",
    "sess = tf.Session()\n",
    "sess.run(init)\n",
    "\n",
    "for step in range(150000):\n",
    "    sess.run(train, feed_dict={X:X, Y:y_data})\n",
    "    if step % 25000 == 0:\n",
    "        print (step, sess.run(cost, feed_dict={X:X, Y:y_data}), sess.run(W)\n",
    "\n",
    "W_val = sess.run(W)\n",
    "\n",
    "print(\"W의 첫번째 값은 b값이다.\")\n",
    "print (W_val)\n",
    "\n"
   ]
  },
  {
   "cell_type": "code",
   "execution_count": null,
   "metadata": {
    "collapsed": true
   },
   "outputs": [],
   "source": [
    "\n"
   ]
  }
 ],
 "metadata": {
  "kernelspec": {
   "display_name": "Python 3",
   "language": "python",
   "name": "python3"
  },
  "language_info": {
   "codemirror_mode": {
    "name": "ipython",
    "version": 3
   },
   "file_extension": ".py",
   "mimetype": "text/x-python",
   "name": "python",
   "nbconvert_exporter": "python",
   "pygments_lexer": "ipython3",
   "version": "3.4.5"
  }
 },
 "nbformat": 4,
 "nbformat_minor": 0
}
