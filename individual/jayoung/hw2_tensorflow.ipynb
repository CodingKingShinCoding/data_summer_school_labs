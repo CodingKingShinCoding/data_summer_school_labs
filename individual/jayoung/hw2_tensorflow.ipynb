{
 "cells": [
  {
   "cell_type": "code",
   "execution_count": 2,
   "metadata": {
    "collapsed": true
   },
   "outputs": [],
   "source": [
    "from sklearn.datasets import load_boston\n",
    "import matplotlib.pyplot as plt\n",
    "import numpy as np\n",
    "import pandas as pd\n",
    "import tensorflow as tf\n",
    "from sklearn import  linear_model\n",
    "from pandas.tools.plotting import scatter_matrix\n",
    "%matplotlib inline"
   ]
  },
  {
   "cell_type": "code",
   "execution_count": 4,
   "metadata": {
    "collapsed": true
   },
   "outputs": [],
   "source": [
    "boston = load_boston()"
   ]
  },
  {
   "cell_type": "code",
   "execution_count": 5,
   "metadata": {
    "collapsed": false
   },
   "outputs": [],
   "source": [
    "x_data = np.float32(boston.data)\n",
    "t_x_data = x_data.transpose()\n",
    "y_data = np.float32(boston.target)\n"
   ]
  },
  {
   "cell_type": "code",
   "execution_count": 7,
   "metadata": {
    "collapsed": false
   },
   "outputs": [
    {
     "name": "stdout",
     "output_type": "stream",
     "text": [
      "0 57084.8 [[-0.70231307  0.0494303  -0.81885785  0.48595074 -0.08064454  0.19456437\n",
      "  -0.01012381  0.7686941   0.83093208 -0.28567779  0.96636987 -0.31915873\n",
      "   0.0573972 ]] [-0.90337843]\n",
      "15000 63.6839 [[-0.36555991  0.07742842 -0.50181872  0.49759677 -0.07488143  0.30732581\n",
      "   0.11887749  0.65074927  0.64628285 -0.0198299   0.83015239  0.02260785\n",
      "  -0.37806422]] [-0.89690298]\n",
      "30000 52.6005 [[-0.23260118  0.08629826 -0.29437327  0.50752461 -0.06951798  0.41308889\n",
      "   0.12598114  0.56806552  0.49276301 -0.01636847  0.74215794  0.02479007\n",
      "  -0.60581106]] [-0.88926983]\n",
      "45000 48.1694 [[-0.16815633  0.09144922 -0.16178483  0.51646531 -0.06430595  0.51722503\n",
      "   0.12601994  0.50555152  0.38195154 -0.01366012  0.68635935  0.0254131\n",
      "  -0.72077423]] [-0.88088679]\n",
      "60000 46.0121 [[-0.13265762  0.0942212  -0.07994705  0.5248192  -0.05927638  0.61956269\n",
      "   0.12357584  0.45444316  0.30538431 -0.01174171  0.64726067  0.02550189\n",
      "  -0.77858996]] [-0.8719461]\n",
      "75000 44.7019 [[-0.11177195  0.09552149 -0.03083264  0.53286582 -0.05442927  0.72012419\n",
      "   0.12046141  0.41014132  0.25335112 -0.01040311  0.61724991  0.02539614\n",
      "  -0.80683386]] [-0.8630054]\n",
      "90000 43.7302 [[-0.09910107  0.09593833 -0.00220132  0.54091245 -0.04973933  0.81889623\n",
      "   0.11731577  0.37014377  0.21817787 -0.00946566  0.59241372  0.0252209\n",
      "  -0.81934011]] [-0.8540647]\n",
      "105000 42.9072 [[-0.09131779  0.09585033  0.01387421  0.54895908 -0.0451858   0.91587538\n",
      "   0.11432603  0.33302304  0.19440652 -0.00880735  0.57070744  0.02502369\n",
      "  -0.82322657]] [-0.84512401]\n",
      "120000 42.1599 [[-0.08653028  0.09547245  0.02238852  0.55686951 -0.04075157  1.0110805\n",
      "   0.11150356  0.29798302  0.17830393 -0.00834367  0.55095845  0.02482554\n",
      "  -0.82229149]] [-0.83618331]\n",
      "135000 41.4604 [[-0.08361248  0.09494387  0.02642888  0.56402206 -0.03642293  1.1044879\n",
      "   0.10883753  0.2645483   0.16736513 -0.00802017  0.53258079  0.02463257\n",
      "  -0.81862152]] [-0.82805955]\n",
      "149999 40.7954 [[-0.08187315  0.09434582  0.02787887  0.57117414 -0.03219747  1.1961416\n",
      "   0.1062999   0.23241585  0.15991625 -0.00779612  0.51514047  0.02444653\n",
      "  -0.81346345]] [-0.82001346]\n"
     ]
    }
   ],
   "source": [
    "W = tf.Variable(tf.random_uniform([1,13],-1.0,1.0))\n",
    "b =  tf.Variable(tf.random_uniform([1],-1.0,1.0))\n",
    "\n",
    "hypothesis = tf.matmul(W, t_x_data) + b\n",
    "cost = tf.reduce_mean(tf.square(hypothesis - y_data))\n",
    "\n",
    "a = tf.Variable(0.000001)\n",
    "optimizer = tf.train.GradientDescentOptimizer(a)\n",
    "train = optimizer.minimize(cost)\n",
    "\n",
    "init = tf.initialize_all_variables()\n",
    "\n",
    "sess = tf.Session()\n",
    "sess.run(init)\n",
    "\n",
    "for step in range(150000):\n",
    "    sess.run(train)\n",
    "    if step % 15000 == 0:\n",
    "        print (step, sess.run(cost), sess.run(W), sess.run(b))\n",
    "\n",
    "print (step, sess.run(cost), sess.run(W), sess.run(b))\n",
    "        \n",
    "#W_val = sess.run(W)\n",
    "#b_val = sess.run(b)\n",
    "\n",
    "#print(W_val,b_val)\n"
   ]
  },
  {
   "cell_type": "code",
   "execution_count": null,
   "metadata": {
    "collapsed": false
   },
   "outputs": [],
   "source": []
  }
 ],
 "metadata": {
  "kernelspec": {
   "display_name": "Python 3",
   "language": "python",
   "name": "python3"
  },
  "language_info": {
   "codemirror_mode": {
    "name": "ipython",
    "version": 3
   },
   "file_extension": ".py",
   "mimetype": "text/x-python",
   "name": "python",
   "nbconvert_exporter": "python",
   "pygments_lexer": "ipython3",
   "version": "3.4.5"
  }
 },
 "nbformat": 4,
 "nbformat_minor": 0
}
