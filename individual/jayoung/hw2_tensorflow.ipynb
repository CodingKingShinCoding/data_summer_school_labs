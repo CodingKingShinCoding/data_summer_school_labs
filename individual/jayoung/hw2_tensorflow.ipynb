{
 "cells": [
  {
   "cell_type": "code",
   "execution_count": 67,
   "metadata": {
    "collapsed": true
   },
   "outputs": [],
   "source": [
    "from sklearn.datasets import load_boston\n",
    "import matplotlib.pyplot as plt\n",
    "import numpy as np\n",
    "import pandas as pd\n",
    "import tensorflow as tf\n",
    "from sklearn import  linear_model\n",
    "from pandas.tools.plotting import scatter_matrix\n",
    "%matplotlib inline"
   ]
  },
  {
   "cell_type": "code",
   "execution_count": 68,
   "metadata": {
    "collapsed": true
   },
   "outputs": [],
   "source": [
    "boston = load_boston()\n",
    "\n",
    "names = ['crim', 'zn', 'indus', 'chas', 'nox', 'rm', 'age', 'dis', 'rad', 'tax', 'ptratio', 'b', 'lstat']\n",
    "df = pd.DataFrame(boston.data, columns=names)\n",
    "df['price'] = boston.target"
   ]
  },
  {
   "cell_type": "code",
   "execution_count": 75,
   "metadata": {
    "collapsed": false
   },
   "outputs": [],
   "source": [
    "x_data = np.float32(boston.data)\n",
    "t_x_data = x_data.transpose()\n",
    "y_data = np.float32(boston.target)\n"
   ]
  },
  {
   "cell_type": "code",
   "execution_count": 84,
   "metadata": {
    "collapsed": false
   },
   "outputs": [
    {
     "name": "stdout",
     "output_type": "stream",
     "text": [
      "0 65439.9 [[ 0.3434414  -0.58254588  0.4301362  -0.10704409  0.92842746 -0.77037275\n",
      "   0.72890079 -0.57142329  0.92665803  0.33110714 -0.30905837  0.24227232\n",
      "  -0.30937979]] [ 0.77331102]\n",
      "15000 67.3138 [[-0.09845686  0.19844295  0.20344371 -0.10057607  0.9350794  -0.51874971\n",
      "   0.12217071 -0.39351228  0.6004616  -0.02069637  0.0065714   0.06515259\n",
      "  -0.63292879]] [ 0.80019099]\n",
      "30000 56.9785 [[-0.16058594  0.17362948  0.11548903 -0.09320163  0.94239938 -0.31938082\n",
      "   0.12409436 -0.31097528  0.43235323 -0.01310657  0.23859718  0.05216666\n",
      "  -0.73088682]] [ 0.82169688]\n",
      "45000 51.9305 [[-0.15211104  0.15665053  0.05866903 -0.08535483  0.94890058 -0.1482994\n",
      "   0.12186051 -0.25880691  0.32577372 -0.00980416  0.39673159  0.04413908\n",
      "  -0.7809301 ]] [ 0.83965814]\n",
      "60000 49.0356 [[-0.134829    0.14474806  0.0230826  -0.0771228   0.95508647  0.00332243\n",
      "   0.11869415 -0.22716035  0.25508106 -0.00809967  0.50261307  0.03867655\n",
      "  -0.80948704]] [ 0.85502392]\n",
      "75000 47.1884 [[-0.12032826  0.13624161  0.00118567 -0.06863902  0.96045089  0.14087075\n",
      "   0.11544802 -0.20966999  0.20786901 -0.00716711  0.57150853  0.03481884\n",
      "  -0.82615507]] [ 0.86864465]\n",
      "90000 45.8705 [[-0.10973317  0.13004179 -0.01203343 -0.06001758  0.96581531  0.26795307\n",
      "   0.11235004 -0.20199183  0.17658304 -0.00667411  0.61424661  0.03204731\n",
      "  -0.83535528]] [ 0.88085586]\n",
      "105000 44.8287 [[-0.10230253  0.12541577 -0.01979435 -0.05130731  0.97093993  0.38706347\n",
      "   0.10943624 -0.20110716  0.15617226 -0.00644627  0.6384998   0.03003274\n",
      "  -0.83958274]] [ 0.89212865]\n",
      "120000 43.9384 [[-0.09717682  0.121863   -0.02414751 -0.04259013  0.97541028  0.4999736\n",
      "   0.10669497 -0.20490652  0.14316003 -0.00638128  0.64971441  0.02855051\n",
      "  -0.84035009]] [ 0.9027794]\n",
      "135000 43.1377 [[-0.09368002  0.11905801 -0.02639457 -0.03387295  0.97988063  0.6079284\n",
      "   0.10410599 -0.21191643  0.13515052 -0.00641415  0.6517424   0.02744406\n",
      "  -0.83871287]] [ 0.91261417]\n"
     ]
    }
   ],
   "source": [
    "W = tf.Variable(tf.random_uniform([1,13],-1.0,1.0))\n",
    "b =  tf.Variable(tf.random_uniform([1],-1.0,1.0))\n",
    "\n",
    "hypothesis = tf.matmul(W, t_x_data) + b\n",
    "cost = tf.reduce_mean(tf.square(hypothesis - y_data))\n",
    "\n",
    "a = tf.Variable(0.000001)\n",
    "optimizer = tf.train.GradientDescentOptimizer(a)\n",
    "train = optimizer.minimize(cost)\n",
    "\n",
    "init = tf.initialize_all_variables()\n",
    "\n",
    "sess = tf.Session()\n",
    "sess.run(init)\n",
    "\n",
    "for step in range(150000):\n",
    "    sess.run(train)\n",
    "    if step % 15000 == 0:\n",
    "        print (step, sess.run(cost), sess.run(W), sess.run(b))\n",
    "        \n",
    "#W_val = sess.run(W)\n",
    "#b_val = sess.run(b)\n",
    "\n",
    "#print(W_val,b_val)\n"
   ]
  },
  {
   "cell_type": "code",
   "execution_count": null,
   "metadata": {
    "collapsed": false
   },
   "outputs": [],
   "source": []
  }
 ],
 "metadata": {
  "kernelspec": {
   "display_name": "Python 3",
   "language": "python",
   "name": "python3"
  },
  "language_info": {
   "codemirror_mode": {
    "name": "ipython",
    "version": 3
   },
   "file_extension": ".py",
   "mimetype": "text/x-python",
   "name": "python",
   "nbconvert_exporter": "python",
   "pygments_lexer": "ipython3",
   "version": "3.4.5"
  }
 },
 "nbformat": 4,
 "nbformat_minor": 0
}
