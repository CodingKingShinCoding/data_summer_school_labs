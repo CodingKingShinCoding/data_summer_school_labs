{
 "cells": [
  {
   "cell_type": "markdown",
   "metadata": {},
   "source": [
    "위 신문 데이터를 바탕으로 신문 내용별 분류기를 개발하라 <br></br>\n",
    "위 데이터를 Traing / Test Dataset으로 나눠서 5-fold cross validation(5번 데이터를 training / testset으로 나눔, KV 활용)<br></br>\n",
    "Naive Bayesian Classifier와 Count Vector를 활용하여 각각 성능을 테스트하라<br></br>\n",
    "NB는 multinomial과 bernuoil 분포를 모두 사용하라<br></br>\n",
    "가능할 경우, TF-IDF vector를 활용해 볼것 (검색어 - tf-idf scikit-learn)"
   ]
  },
  {
   "cell_type": "code",
   "execution_count": 1,
   "metadata": {},
   "outputs": [],
   "source": [
    "import sklearn as sk\n",
    "import numpy as np\n",
    "from sklearn.datasets import fetch_20newsgroups\n",
    "from sklearn.naive_bayes import MultinomialNB, BernoulliNB\n",
    "from sklearn.model_selection import cross_val_score\n",
    "from sklearn.feature_extraction.text import CountVectorizer\n",
    "from sklearn.feature_extraction.text import TfidfVectorizer\n",
    "from nltk.stem.snowball import SnowballStemmer\n",
    "import re"
   ]
  },
  {
   "cell_type": "code",
   "execution_count": 2,
   "metadata": {},
   "outputs": [],
   "source": [
    "news = fetch_20newsgroups(subset='all')"
   ]
  },
  {
   "cell_type": "code",
   "execution_count": 3,
   "metadata": {},
   "outputs": [
    {
     "name": "stdout",
     "output_type": "stream",
     "text": [
      "dict_keys(['data', 'filenames', 'target_names', 'DESCR', 'target', 'description'])\n",
      "comp.sys.ibm.pc.hardware\n"
     ]
    }
   ],
   "source": [
    "print(news.keys())\n",
    "\n",
    "print(news.target_names[3])"
   ]
  },
  {
   "cell_type": "code",
   "execution_count": 4,
   "metadata": {},
   "outputs": [],
   "source": [
    "#분류 코드는 0부터 19까지 있다.\n",
    "stemmer = SnowballStemmer('english')\n",
    "\n",
    "x_data = news['data'] #data \n",
    "y_data = news['target']\n"
   ]
  },
  {
   "cell_type": "markdown",
   "metadata": {},
   "source": [
    "##### 데이터 전처리\n",
    "\n",
    "1. 문장 부호 제거\n",
    "2. 숫자 제거\n",
    "3. 영어 소문자화\n",
    "4. 불용어 제거"
   ]
  },
  {
   "cell_type": "code",
   "execution_count": 5,
   "metadata": {},
   "outputs": [
    {
     "name": "stdout",
     "output_type": "stream",
     "text": [
      "[' mamatha devineni ratnam   pen fan reaction organization post office carnegi mellon pittsburgh pa lines  nntppostinghost poandrewcmuedu i am sure some basher of pen fan are pretti confus about the lack of ani kind of post about the recent pen massacr of the devils actually i am bit puzzl too and a bit relieved however i am go to put an end to nonpittsburgh relief with a bit of prais for the pens man they are kill those devil wors than i thought jagr just show you whi he is much better than his regular season stats he is also a lot fo fun to watch in the playoffs bowman should let jagr have a lot of fun in the next coupl of game sinc the pen are go to beat the pulp out of jersey anyway i was veri disappoint not to see the island lose the final regular season game pen rule', '  matthew b lawson  which highperform vlb video card summary seek recommend for vlb video card nntppostinghost midwayecnuoknoredu organization engin comput network univers of oklahoma norman ok usa keywords orchid stealth vlb lines  my brother is in the market for a highperform video card that support vesa local bus with mb ram doe anyon have suggestionsidea on  diamond stealth pro local bus  orchid farenheit   ati graphic ultra pro  ani other highperform vlb card pleas post or email thank you  matt   matthew b lawson     \"now i nebuchadnezzar prais and exalt and glorifi the king   of heaven becaus everyth he doe is right and all his way   are just\"  nebuchadnezzar king of babylon  bc ']\n"
     ]
    }
   ],
   "source": [
    "#이메일 제거 및 단어 원형복원\n",
    "def delete_email(X):\n",
    "    for i in range(len(X)):\n",
    "        new_list = X[i].split()\n",
    "        for j in range(len(new_list)):\n",
    "            new_list[j] = stemmer.stem(new_list[j])\n",
    "            if '@' in new_list[j] :\n",
    "                new_list[j] = \"\"\n",
    "                #del new_list[i]\n",
    "        X[i] =  \" \".join(new_list)       \n",
    "    return X    \n",
    "\n",
    "#불필요한 text 제거\n",
    "def delete_text(X):\n",
    "    for i in range(len(X)):\n",
    "        X[i] = X[i].replace(\"\\n\", \"\")\n",
    "        X[i] = X[i].replace(\"\\t\", \"\")\n",
    "        X[i] = X[i].replace(\"subject\", \"\")\n",
    "        X[i] = X[i].replace(\"from\", \"\")\n",
    "       \n",
    "    return X\n",
    "\n",
    "#특수부호 제거\n",
    "def delete_(X):\n",
    "    for i in range(len(X)):\n",
    "        X[i] =re.sub('[-=#/)^_&12?345+(67890|:$}!,{.><*]', '', X[i])\n",
    "    return X\n",
    "\n",
    "\n",
    "x_data = delete_email(x_data)\n",
    "x_data = delete_text(x_data)\n",
    "x_data = delete_(x_data)\n",
    "\n",
    "print(x_data[:2])"
   ]
  },
  {
   "cell_type": "code",
   "execution_count": 6,
   "metadata": {},
   "outputs": [],
   "source": [
    "#stop_words 불용어 처리\n",
    "vectorizer = TfidfVectorizer(stop_words='english')\n",
    "\n",
    "tfidf_matrix = vectorizer.fit_transform(x_data)\n",
    "\n",
    "#set data\n",
    "X = tfidf_matrix\n",
    "\n",
    "y  = y_data"
   ]
  },
  {
   "cell_type": "code",
   "execution_count": 7,
   "metadata": {},
   "outputs": [
    {
     "name": "stdout",
     "output_type": "stream",
     "text": [
      "Multinomial Accuracy: 0.87 (+/- 0.01)\n",
      "Bernoulli Accuracy: 0.71 (+/- 0.02)\n"
     ]
    }
   ],
   "source": [
    "clf_M = MultinomialNB()\n",
    "clf_M.fit(X, y)\n",
    "\n",
    "clf_B = BernoulliNB()\n",
    "clf_B.fit(X, y)\n",
    "\n",
    "\n",
    "#5-fold cross validation\n",
    "scores_M = cross_val_score(clf_M, X, y, cv=5)\n",
    "print(\"Multinomial Accuracy: %0.2f (+/- %0.2f)\" % (scores_M.mean(), scores_M.std() * 2))\n",
    "\n",
    "scores_B = cross_val_score(clf_B, X, y, cv=5)\n",
    "print(\"Bernoulli Accuracy: %0.2f (+/- %0.2f)\" % (scores_B.mean(), scores_B.std() * 2))\n",
    "\n",
    "\n"
   ]
  }
 ],
 "metadata": {
  "kernelspec": {
   "display_name": "Python 3",
   "language": "python",
   "name": "python3"
  },
  "language_info": {
   "codemirror_mode": {
    "name": "ipython",
    "version": 3
   },
   "file_extension": ".py",
   "mimetype": "text/x-python",
   "name": "python",
   "nbconvert_exporter": "python",
   "pygments_lexer": "ipython3",
   "version": "3.5.2"
  }
 },
 "nbformat": 4,
 "nbformat_minor": 2
}
