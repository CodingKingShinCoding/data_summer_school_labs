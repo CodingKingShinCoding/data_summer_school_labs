{
 "cells": [
  {
   "cell_type": "code",
   "execution_count": 1,
   "metadata": {
    "collapsed": false
   },
   "outputs": [],
   "source": [
    "import tensorflow as tf\n",
    "import numpy as np\n",
    "import urllib.request as ur"
   ]
  },
  {
   "cell_type": "code",
   "execution_count": 2,
   "metadata": {
    "collapsed": false
   },
   "outputs": [],
   "source": [
    "txt = ur.urlopen(\"http://goo.gl/vhm1eU\")\n",
    "# a=txt.split(\"\\n\")\n",
    "# data_source = np.array(a)\n",
    "raw_data = np.loadtxt(txt, delimiter=',',  unpack=False, dtype='float32')\n",
    "\n",
    "      \n",
    "#load_data"
   ]
  },
  {
   "cell_type": "code",
   "execution_count": 3,
   "metadata": {
    "collapsed": false
   },
   "outputs": [],
   "source": [
    "# set s_data, y_data\n",
    "x_data = raw_data[:,:8]\n",
    "y_data = raw_data[:,8]\n"
   ]
  },
  {
   "cell_type": "code",
   "execution_count": 4,
   "metadata": {
    "collapsed": false
   },
   "outputs": [],
   "source": [
    "# normalize x_data\n",
    "from sklearn.preprocessing import normalize\n",
    "x_data = normalize(x_data,axis = 0).T\n"
   ]
  },
  {
   "cell_type": "code",
   "execution_count": 5,
   "metadata": {
    "collapsed": false
   },
   "outputs": [],
   "source": [
    "x_data = np.insert(x_data, 0 , 1, axis=1)\n",
    "# print(x_data)\n",
    "# print(y_data)\n",
    "y_data = y_data.reshape(y_data.shape[0], 1)\n",
    "# print(y_data)"
   ]
  },
  {
   "cell_type": "code",
   "execution_count": 6,
   "metadata": {
    "collapsed": true
   },
   "outputs": [],
   "source": [
    "W = tf.Variable(tf.random_uniform([1,len(x_data)],-1.0,1.0))\n",
    "h= tf.matmul(W,x_data)\n",
    "hypothesis = tf.div(1.,1.+tf.exp(-h))\n",
    "cost = -tf.reduce_mean(y_data*tf.log(hypothesis)+(1-y_data)*tf.log(1-hypothesis))\n",
    "a = tf.Variable(0.1)\n",
    "optimizer = tf.train.GradientDescentOptimizer(a)\n",
    "train = optimizer.minimize(cost)\n",
    "init = tf.initialize_all_variables()\n",
    "sess = tf.Session()\n",
    "sess.run(init)"
   ]
  },
  {
   "cell_type": "code",
   "execution_count": null,
   "metadata": {
    "collapsed": false
   },
   "outputs": [
    {
     "name": "stdout",
     "output_type": "stream",
     "text": [
      "0 0.681278 [[-1.0683341  -1.00785553 -0.4099631   0.42647853  0.22968182  0.30920246\n",
      "  -0.80626714 -0.42491955]]\n"
     ]
    }
   ],
   "source": [
    "for step in range(2000001):\n",
    "    sess.run(train)\n",
    "    if step % 10000 == 0:\n",
    "        print (step, sess.run(cost), sess.run(W))\n",
    "\n"
   ]
  },
  {
   "cell_type": "code",
   "execution_count": null,
   "metadata": {
    "collapsed": true
   },
   "outputs": [],
   "source": []
  }
 ],
 "metadata": {
  "kernelspec": {
   "display_name": "Python 3",
   "language": "python",
   "name": "python3"
  },
  "language_info": {
   "codemirror_mode": {
    "name": "ipython",
    "version": 3
   },
   "file_extension": ".py",
   "mimetype": "text/x-python",
   "name": "python",
   "nbconvert_exporter": "python",
   "pygments_lexer": "ipython3",
   "version": "3.4.5"
  }
 },
 "nbformat": 4,
 "nbformat_minor": 0
}
